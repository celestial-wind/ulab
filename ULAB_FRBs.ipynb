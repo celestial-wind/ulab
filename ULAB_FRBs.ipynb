{
 "cells": [
  {
   "cell_type": "markdown",
   "id": "competent-timeline",
   "metadata": {},
   "source": [
    "## ULAB FRBs\n",
    "#### Kyle Miller"
   ]
  },
  {
   "cell_type": "code",
   "execution_count": 4,
   "id": "composed-starter",
   "metadata": {},
   "outputs": [],
   "source": [
    "# these are useful packages to import for astronomy (typical syntax)\n",
    "import astropy.units as u\n",
    "import astropy.constants as c\n",
    "\n",
    "# these are typical packages used in jupyter notebooks\n",
    "import numpy as np\n",
    "import matplotlib.pyplot as plt\n",
    "\n",
    "# these are useful packages for science/engineering in general\n",
    "from scipy import signal\n",
    "from scipy import integrate\n",
    "from scipy import fftpack\n",
    "from scipy import optimize\n",
    "from scipy import ndimage\n",
    " \n",
    "# this is the package for plasma-related physics (it uses astropy)\n",
    "from plasmapy import dispersion\n",
    "from plasmapy import formulary\n",
    "from plasmapy import simulation"
   ]
  },
  {
   "cell_type": "markdown",
   "id": "ultimate-landing",
   "metadata": {},
   "source": [
    "### Astronomy: gravitation and electromagnetism\n",
    "\n",
    "In this quick introduction to astronomical research it would be good to cover the basic physics before moving into the particulars of radio astronomy and fast radio bursts (FRBs). Often in physics the universe is portrayed as a soup of quantum particles that do strange quantum things and somehow build up into what is observed in nature. This is typically called *reductionism* in the philosophical parlance. However, there are alternative views like *emergence* where lots of smaller things can become other bigger things with there own behaviors and laws. In classical physics the \"three-body problem\" makes analytical (pen and paper) solutions mostly impossible for any system with 3+ bodies, like the Sun, Earth and moon. Whereas in quantum mechanics and relativity calculating systems with more than 2 particles results in a similar impasse. Usually the way around this is going to numerical solutions and methods, which basically means using the computer to do the calculations!\n",
    "\n",
    "For astronomers—with the exception for stellar fusion, quantum line emissions, and a few high-energy processes like the big bang—the majority of the physics is gravitation and electromagnetism (plus the majority of the emission spectra is typically found experimentally not theoretically, with the major exception being 21cm neutral hydrogen, which you will encounter if you take quantum physics!). These two areas of physics have a lot in common, e.g., in CGS units astronomers tend to use\n",
    "\n",
    "$$ F_{G} = \\frac{G m_1 m_2}{r^2} \\;\\; \\& \\;\\; F_{EM} = \\frac{q_1 q_2}{r^2}, $$\n",
    "\n",
    "where the \"charge\" ($q_i$ for electromagnetism) of gravity is typically mass, $m_i$, but could be energy $E = \\gamma m c^2$, and $r$ is the radial distance between the charges; although they are typically compared by strength: the ratio of the gravitational to electromagnetic force **for particles** is on the order of $\\sim 10^{42}$, with gravity being the lesser. For astronomical bodies, however, gravitation is often playing the larger role. Magnetic fields, which are harder to observe than massive (hot) things, are often neglected (especially in undergraduate classes). Radio astronomy is probably the best tool for visualizing magnetic fields outside of the solar system for a variety of reasons—but mostly because of the way electromagnetic (radio) waves propagate through regions with magnetic fields (spectral line splitting, i.e., the Zeeman effect, and a few other techniques like polarization can be used in certain cases at other wavebands).\n",
    "\n",
    "If you have completed the $5/7$ series or equivalent you probably have seen Maxwell's equations. These come up in an area of astronomy called magnetohydrodynamics where they are combined with the equations of fluids, which typically includes gravity, to produce a system of equations that can be used to model plasma and other astrophysical objects like accretion disks. This is a very involved field—but is much easier than trying to solve Schrodinger's equation for zillions of particles—so the important results and tools like dispersion relations will be covered below without any derivations, just hand wavy arguments and pictures (observational astronomers, like Faraday, typically think about magnetic fields as *lines of force* anyways). The prototypical image of dispersion is the prism"
   ]
  },
  {
   "cell_type": "markdown",
   "id": "unlikely-persian",
   "metadata": {},
   "source": [
    "<img src=\"images/prism.jpg\" width=\"800\" />"
   ]
  },
  {
   "cell_type": "markdown",
   "id": "mysterious-booth",
   "metadata": {},
   "source": [
    "(image from: https://www.cyberphysics.co.uk/topics/light/dispersion.htm). Of course, radio waves are not as colorful altough they can make sounds! Thunderstorms are very bright sources of radio waves and actually power a resonance in the Earth's atmosphere that pulsates at around $7$ Hz; the FRBs are much more energetic and are typically oscillating around $1$ GHz (for comparison, Wi-Fi and microwave ovens operate around $2.4/5$ GHz).\n",
    "\n",
    "**From the interactions of graviation and electromagnetism emerges a form of information/entropy? (optical thickness)**\n",
    "\n",
    "The most important physics for FRBs and radio astronomy, at the basic level, will be the concepts of luminosity and flux density. Luminosity, $L$, is basically a pseudonym for power or $E/t$ (energy/time). For a black body (an object in thermal equilibrium, i.e., roughly the same temperature as its surroundings) the luminosity is given by the Steffan-Boltzmann equation\n",
    "\n",
    "$$ L = 4\\pi r_*^2 \\sigma T^4$$\n",
    "\n",
    "where $r_*$ is the radius of the object, $\\sigma$ is the Steffan-Boltzmann constant, and $T$ is the temperature of the object. The flux density then is is defined as \n",
    "\n",
    "$$ F = \\frac{L}{4\\pi r_{path}^2 } $$\n",
    "\n",
    "which is essentailly luminosity/surface area with $r_{path}$ being the path of a given ray being emitted from the luminous object (usually assumed to be a black body). Stars, for example, are not perfect black bodies, but they are close enough that there \"surface\" temperature (the photosphere) is used as an \"effective\" temperature ($T_\\odot \\approx 5777 $) for the equation above and the results are in generally good agreement with observations. The following image shows the difference between a perfect blackbody and the Sun's actualy spectrum.\n",
    "\n",
    "![](images/sun_spectrum.png)\n",
    "\n",
    "Image source: [https://physics.stackexchange.com/questions/130209/how-can-it-be-that-the-sun-emits-more-than-a-black-body](https://physics.stackexchange.com/questions/130209/how-can-it-be-that-the-sun-emits-more-than-a-black-body).\n",
    "\n",
    "The Steffan-Boltzman law above comes from integrating the Planck black body formula\n",
    "\n",
    "$$ B(\\nu, T) = \\frac{2 h \\nu^3 }{c^2} \\frac{1}{e^{h \\nu / k_B T} - 1 } $$\n",
    "\n",
    "over all frequencies, $\\nu$. $h$ is Planck's constant, $k_B$ is Boltzmann's constant, and $c$ is the speed of light. For radio astronomy, at relatively low frequencies, this formula can be simplified with a Taylor series approximation for the exponential. This is known as the Rayleigh-Jeans limit. When $h\\nu \\ll k_B T$ the exponential can be approximated as\n",
    "\n",
    "$$ e^{h \\nu / k_B T} \\approx 1 + \\frac{h \\nu}{k_B T}$$\n",
    "\n",
    "and then the two ones cancel out yielding the following (approximate) formula\n",
    "\n",
    "$$ B(\\nu, T) = \\frac{2 h \\nu^2 k_B T_B }{c^2} $$\n",
    "\n",
    "where the temperature is known as the \"brightness temperature\" $T_B$. This allows radio astronomers to get an approximate temperature for objects based on the flux recived, *if the object is in thermodynamic equilibrium*. Anything in a spectrum from an object that is not like a black body curve means there is non-thermal emission. For optical observations this generally means spectral lines; for x-ray and $\\gamma-ray$ there are high-energy events like supernovae that are not thermalized; and for radio there are free-free radiation and synchrontron radiation that actually get more intense as frequency goes down! (This is the exact opposite of a black body.)\n",
    "\n",
    "\n",
    "![](images/spectrums.jpg)\n",
    "\n",
    "\n",
    "\n",
    "\n",
    "at the higher level the [inverse square laws](https://en.wikipedia.org/wiki/Inverse-square_law) above are replaced with *fields* and take the form\n",
    "\n",
    "$$ \\mathbf{F_{G}} = m \\left( \\mathbf{E_{G}} + \\mathbf{v} \\times \\mathbf{B_{G}} \\right)\\;\\; \\& \\;\\; \\mathbf{F_{EM}} = q \\left( \\mathbf{E} + \\mathbf{v} \\times \\mathbf{B} \\right)$$\n",
    "\n",
    "where the electric field is $\\mathbf{E_i}$, magnetic field is $\\mathbf{B_i}$, and $\\mathbf{E_{G}}$ is the gravitational field and $\\mathbf{B_{G}}$ is the \"gravitomagnetic\" field; these can be compared to the more \"fundamental\" $\\mathbf{F} = m \\mathbf{a}$. These laws are quite exact; in astrophysics, the level of exactness required can vary quite a bit depending on the precision of the observations, usually $\\mathbf{B_{G}}$ can only be measured in the regions around extremly massive, compact objects like black holes and neutron stars, although it has been measured in the vicinity of the Earth. Both of the sets of fields are theoretically derived from the theory of relativity.\n",
    "\n",
    "For spectral lines, high precision is key to Doppler shifts, however, very often this requirement is relaxed and scaling relations are used instead to get a feeling for how things work. This \"order of magnitude\" thinking is a great skill to have in your back pocket in case you ever need to do a \"back of the envelope\" calculation. Instead of an equals sign or even an approximate sign the tilda or twiddle is used (if units are left out a proportionality sign should be used). In radio astronomy the Rayleigh-Jeans approximation is very useful\n",
    "\n",
    "compared to the more accurate Planck black body formula for objects in thermal equilibrium. \n",
    "\n",
    "FRB scaling relations, plasma scaling relations, magnetic field scaling relations, cosmological scaling relations, etc."
   ]
  },
  {
   "cell_type": "markdown",
   "id": "shared-priest",
   "metadata": {},
   "source": [
    "Beta\n",
    "Reynolds Number\n",
    "Magnetic Reynolds Number\n",
    "\n",
    "FRB like intergalactic aurora"
   ]
  },
  {
   "cell_type": "code",
   "execution_count": null,
   "id": "ideal-holly",
   "metadata": {},
   "outputs": [],
   "source": []
  }
 ],
 "metadata": {
  "kernelspec": {
   "display_name": "Python 3",
   "language": "python",
   "name": "python3"
  },
  "language_info": {
   "codemirror_mode": {
    "name": "ipython",
    "version": 3
   },
   "file_extension": ".py",
   "mimetype": "text/x-python",
   "name": "python",
   "nbconvert_exporter": "python",
   "pygments_lexer": "ipython3",
   "version": "3.9.5"
  }
 },
 "nbformat": 4,
 "nbformat_minor": 5
}
